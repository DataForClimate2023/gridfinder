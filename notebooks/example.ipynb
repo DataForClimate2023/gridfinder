{
 "cells": [
  {
   "cell_type": "markdown",
   "metadata": {},
   "source": [
    "# gridfinder\n",
    "Run through the full gridfinder model from data input to final guess for Burundi.\n",
    "Note that the 'truth' data used for the grid here is very bad, so the accuracy results don't mean much.\n",
    "\n",
    "## Before running the notebook\n",
    "\n",
    "Install the library and its dependencies with, if you haven't done so already\n",
    "```\n",
    "pip install -e .\n",
    "```\n",
    "from the root directory. You can also execute this command directly in the notebook but will need to reload the\n",
    "kernel afterwards"
   ]
  },
  {
   "cell_type": "code",
   "execution_count": 15,
   "metadata": {
    "collapsed": false,
    "jupyter": {
     "outputs_hidden": false
    },
    "pycharm": {
     "name": "#%%\n"
    }
   },
   "outputs": [
    {
     "name": "stdout",
     "output_type": "stream",
     "text": [
      "The autoreload extension is already loaded. To reload it, use:\n",
      "  %reload_ext autoreload\n"
     ]
    }
   ],
   "source": [
    "# Note - this cell should be executed only once per session\n",
    "%load_ext autoreload\n",
    "%autoreload 2\n",
    "\n",
    "import sys, os\n",
    "\n",
    "# in order to get the config, it is not part of the library\n",
    "os.chdir(\"..\")\n",
    "sys.path.append(os.path.abspath(\".\"))"
   ]
  },
  {
   "cell_type": "code",
   "execution_count": 16,
   "metadata": {},
   "outputs": [],
   "source": [
    "\n",
    "import matplotlib.pyplot as plt\n",
    "import geopandas as gpd\n",
    "from matplotlib import cm\n",
    "import seaborn as sns\n",
    "\n",
    "import numpy as np\n",
    "\n",
    "import folium\n",
    "\n",
    "from gridfinder.gridfinder import optimise, estimate_mem_use, get_targets_costs\n",
    "from gridfinder.post import raster_to_lines, thin, threshold_distances\n",
    "from gridfinder.util.raster import save_2d_array_as_raster, get_clipped_data\n",
    "from gridfinder.util.loading import open_raster_in_tar\n",
    "from gridfinder.prepare import merge_rasters, drop_zero_pop, prepare_ntl, prepare_roads\n",
    "from gridfinder.electrificationfilter import NightlightFilter\n",
    "from config import get_config"
   ]
  },
  {
   "cell_type": "markdown",
   "metadata": {},
   "source": [
    "## Set folders and parameters"
   ]
  },
  {
   "cell_type": "code",
   "execution_count": 17,
   "metadata": {},
   "outputs": [],
   "source": [
    "c = get_config(reload=True)\n",
    "\n",
    "folder_ntl_in = c.datafile_path(\"ntl\", stage=c.RAW)\n",
    "aoi_in = c.datafile_path(\"small_aoi.geojson\", stage=c.GROUND_TRUTH)\n",
    "roads_in = c.datafile_path(\"smaller_roads.geojson\", stage=c.GROUND_TRUTH)\n",
    "pop_in = c.datafile_path('pop.tif', stage=c.GROUND_TRUTH)\n",
    "grid_truth = c.datafile_path('grid.gpkg', stage=c.GROUND_TRUTH)\n",
    "\n",
    "folder_ntl_out = c.datafile_path('ntl_clipped', stage=c.PROCESSED, check_existence=False)\n",
    "raster_merged_out = c.datafile_path('ntl_merged.tif', stage=c.PROCESSED, check_existence=False)\n",
    "targets_out =  c.datafile_path('targets.tif', stage=c.PROCESSED, check_existence=False)\n",
    "targets_clean_out = c.datafile_path('targets_clean.tif', stage=c.CLEANED, check_existence=False)\n",
    "roads_out = c.datafile_path('roads.tif', stage=c.PROCESSED, check_existence=False)\n",
    "\n",
    "dist_out = c.datafile_path('dist.tif', stage=c.PROCESSED, check_existence=False)\n",
    "guess_out = c.datafile_path('guess.tif', stage=c.PROCESSED, check_existence=False)\n",
    "guess_skeletonized_out = c.datafile_path('guess_skel.tif', stage=c.PROCESSED, check_existence=False)\n",
    "guess_nulled = c.datafile_path('guess_nulled.tif', stage=c.PROCESSED, check_existence=False)\n",
    "guess_vec_out = c.datafile_path('guess.gpkg', stage=c.PROCESSED, check_existence=False)\n",
    "animate_out = os.path.join(c.visualizations, 'guess.tif')"
   ]
  },
  {
   "cell_type": "code",
   "execution_count": 18,
   "metadata": {},
   "outputs": [],
   "source": [
    "percentile = 70      # percentile value to use when merging monthly NTL rasters\n",
    "ntl_threshold = 0.1  # threshold when converting filtered NTL to binary (probably shouldn't change)\n",
    "upsample_by = 2      # factor by which to upsample before processing roads (both dimensions are scaled by this)\n",
    "cutoff = 0.0         # cutoff to apply to output dist raster, values below this are considered grid"
   ]
  },
  {
   "cell_type": "markdown",
   "metadata": {},
   "source": [
    "## Clip  and merge monthly rasters"
   ]
  },
  {
   "cell_type": "code",
   "execution_count": 19,
   "metadata": {
    "collapsed": false,
    "jupyter": {
     "outputs_hidden": false
    },
    "pycharm": {
     "name": "#%%\n"
    }
   },
   "outputs": [],
   "source": [
    "# this is necessary until the rest of the notebook has been refactored to use the new saving method\n",
    "DEFAULT_CRS = \"EPSG:4326\"\n"
   ]
  },
  {
   "cell_type": "code",
   "execution_count": 20,
   "metadata": {},
   "outputs": [],
   "source": [
    "ntl_files_basedir = c.datafile_path(\"ntl\")\n",
    "aoi_boundary_geodf = gpd.read_file(aoi_in)\n",
    "\n",
    "for ntl_file in os.listdir(ntl_files_basedir):\n",
    "    full_path = os.path.join(ntl_files_basedir, ntl_file)\n",
    "    output_path = os.path.join(folder_ntl_out, f\"{ntl_file[:-4]}.tif\") #stripping off the .tgz\n",
    "    with open_raster_in_tar(full_path, file_index=1) as raster:\n",
    "        clipped_data, transform = get_clipped_data(raster, aoi_boundary_geodf)\n",
    "        save_2d_array_as_raster(output_path, clipped_data, transform, crs=raster.crs.to_string())"
   ]
  },
  {
   "cell_type": "code",
   "execution_count": 21,
   "metadata": {
    "pycharm": {
     "name": "#%%\n"
    },
    "scrolled": true
   },
   "outputs": [
    {
     "name": "stdout",
     "output_type": "stream",
     "text": [
      "Merged\n"
     ]
    },
    {
     "data": {
      "text/plain": [
       "<matplotlib.image.AxesImage at 0x7f1b6a364a00>"
      ]
     },
     "execution_count": 21,
     "metadata": {},
     "output_type": "execute_result"
    },
    {
     "data": {
      "image/png": "[encoded data removed]",
      "text/plain": [
       "<Figure size 432x288 with 1 Axes>"
      ]
     },
     "metadata": {},
     "output_type": "display_data"
    }
   ],
   "source": [
    "raster_merged, affine, _ = merge_rasters(folder_ntl_out, percentile=percentile)\n",
    "save_2d_array_as_raster(raster_merged_out, raster_merged, affine, DEFAULT_CRS)\n",
    "print('Merged')\n",
    "plt.imshow(raster_merged, vmin=0, vmax=1)"
   ]
  },
  {
   "cell_type": "markdown",
   "metadata": {
    "pycharm": {
     "name": "#%% md\n"
    }
   },
   "source": [
    "## Create filter"
   ]
  },
  {
   "cell_type": "code",
   "execution_count": 22,
   "metadata": {
    "pycharm": {
     "name": "#%%\n"
    }
   },
   "outputs": [
    {
     "data": {
      "text/plain": [
       "<mpl_toolkits.mplot3d.art3d.Poly3DCollection at 0x7f1b6a3c3160>"
      ]
     },
     "execution_count": 22,
     "metadata": {},
     "output_type": "execute_result"
    },
    {
     "data": {
      "image/png": "[encoded data removed]",
      "text/plain": [
       "<Figure size 432x288 with 1 Axes>"
      ]
     },
     "metadata": {},
     "output_type": "display_data"
    }
   ],
   "source": [
    "ntl_filter = NightlightFilter()\n",
    "\n",
    "X = np.fromfunction(lambda i, j: i, ntl_filter.predictor.shape)\n",
    "Y = np.fromfunction(lambda i, j: j, ntl_filter.predictor.shape)\n",
    "\n",
    "fig = plt.figure()\n",
    "sns.set()\n",
    "ax = fig.gca(projection='3d')\n",
    "ax.plot_surface(X, Y, ntl_filter.predictor, cmap=cm.coolwarm, linewidth=0, antialiased=False)"
   ]
  },
  {
   "cell_type": "markdown",
   "metadata": {
    "pycharm": {
     "name": "#%% md\n"
    }
   },
   "source": [
    "## Clip, filter and resample NTL"
   ]
  },
  {
   "cell_type": "code",
   "execution_count": 23,
   "metadata": {
    "pycharm": {
     "name": "#%%\n"
    }
   },
   "outputs": [
    {
     "name": "stdout",
     "output_type": "stream",
     "text": [
      "Targets prepared\n"
     ]
    },
    {
     "data": {
      "text/plain": [
       "<matplotlib.image.AxesImage at 0x7f1b6a1a8940>"
      ]
     },
     "execution_count": 23,
     "metadata": {},
     "output_type": "execute_result"
    },
    {
     "data": {
      "image/png": "[encoded data removed]",
      "text/plain": [
       "<Figure size 432x288 with 1 Axes>"
      ]
     },
     "metadata": {},
     "output_type": "display_data"
    }
   ],
   "source": [
    "ntl_thresh, affine = prepare_ntl(raster_merged,\n",
    "                                    affine,\n",
    "                                    electrification_predictor=ntl_filter,\n",
    "                                    threshold=ntl_threshold,\n",
    "                                        upsample_by=upsample_by)\n",
    "save_2d_array_as_raster(targets_out, ntl_thresh, affine, DEFAULT_CRS)\n",
    "print('Targets prepared')\n",
    "plt.imshow(ntl_thresh, cmap='viridis')"
   ]
  },
  {
   "cell_type": "markdown",
   "metadata": {
    "pycharm": {
     "name": "#%% md\n"
    }
   },
   "source": [
    "## Remove target areas with no underlying population"
   ]
  },
  {
   "cell_type": "code",
   "execution_count": 24,
   "metadata": {
    "pycharm": {
     "name": "#%%\n"
    }
   },
   "outputs": [
    {
     "name": "stdout",
     "output_type": "stream",
     "text": [
      "Removed zero pop\n"
     ]
    },
    {
     "data": {
      "text/plain": [
       "<matplotlib.image.AxesImage at 0x7f1b6a0e56a0>"
      ]
     },
     "execution_count": 24,
     "metadata": {},
     "output_type": "execute_result"
    },
    {
     "data": {
      "image/png": "[encoded data removed]",
      "text/plain": [
       "<Figure size 432x288 with 1 Axes>"
      ]
     },
     "metadata": {},
     "output_type": "display_data"
    }
   ],
   "source": [
    "aoi = gpd.read_file(aoi_in)\n",
    "targets_clean = drop_zero_pop(targets_out, pop_in, aoi)\n",
    "save_2d_array_as_raster(targets_clean_out, targets_clean, affine, DEFAULT_CRS)\n",
    "print('Removed zero pop')\n",
    "plt.imshow(ntl_thresh, cmap='viridis')"
   ]
  },
  {
   "cell_type": "markdown",
   "metadata": {
    "pycharm": {
     "name": "#%% md\n"
    }
   },
   "source": [
    "## Roads: assign values, clip and rasterize"
   ]
  },
  {
   "cell_type": "code",
   "execution_count": 25,
   "metadata": {
    "pycharm": {
     "name": "#%%\n"
    }
   },
   "outputs": [
    {
     "name": "stdout",
     "output_type": "stream",
     "text": [
      "Costs prepared\n"
     ]
    },
    {
     "data": {
      "text/plain": [
       "<matplotlib.image.AxesImage at 0x7f1b6a099df0>"
      ]
     },
     "execution_count": 25,
     "metadata": {},
     "output_type": "execute_result"
    },
    {
     "data": {
      "image/png": "[encoded data removed]",
      "text/plain": [
       "<Figure size 432x288 with 1 Axes>"
      ]
     },
     "metadata": {},
     "output_type": "display_data"
    }
   ],
   "source": [
    "roads_raster, affine = prepare_roads(roads_in,\n",
    "                                        aoi_in,\n",
    "                                        targets_out)\n",
    "save_2d_array_as_raster(roads_out, roads_raster, affine, DEFAULT_CRS, nodata=-1)\n",
    "print('Costs prepared')\n",
    "plt.imshow(roads_raster, cmap='viridis', vmin=0, vmax=1)"
   ]
  },
  {
   "cell_type": "markdown",
   "metadata": {
    "pycharm": {
     "name": "#%% md\n"
    }
   },
   "source": [
    "## Get targets and costs and run algorithm"
   ]
  },
  {
   "cell_type": "code",
   "execution_count": 26,
   "metadata": {},
   "outputs": [
    {
     "name": "stdout",
     "output_type": "stream",
     "text": [
      "Estimated memory usage: 0.00 GB\n"
     ]
    }
   ],
   "source": [
    "targets, costs, start, affine = get_targets_costs(targets_clean_out, roads_out)\n",
    "est_mem = estimate_mem_use(targets, costs)\n",
    "print(f'Estimated memory usage: {est_mem:.2f} GB')"
   ]
  },
  {
   "cell_type": "code",
   "execution_count": 27,
   "metadata": {
    "pycharm": {
     "name": "#%%\n"
    }
   },
   "outputs": [
    {
     "data": {
      "text/plain": [
       "'99.00 %'"
      ]
     },
     "metadata": {},
     "output_type": "display_data"
    },
    {
     "data": {
      "text/plain": [
       "<matplotlib.image.AxesImage at 0x7f1b6a02e1f0>"
      ]
     },
     "execution_count": 27,
     "metadata": {},
     "output_type": "execute_result"
    },
    {
     "data": {
      "image/png": "[encoded data removed]",
      "text/plain": [
       "<Figure size 432x288 with 1 Axes>"
      ]
     },
     "metadata": {},
     "output_type": "display_data"
    }
   ],
   "source": [
    "dist = optimise(targets, costs, start,\n",
    "                   jupyter=True,\n",
    "                   animate=True,\n",
    "                   affine=affine,\n",
    "                   animate_path=animate_out)\n",
    "save_2d_array_as_raster(dist_out, dist, affine, DEFAULT_CRS)\n",
    "plt.imshow(dist)"
   ]
  },
  {
   "cell_type": "markdown",
   "metadata": {
    "pycharm": {
     "name": "#%% md\n"
    }
   },
   "source": [
    "## Filter dist results to grid guess"
   ]
  },
  {
   "cell_type": "code",
   "execution_count": 30,
   "metadata": {
    "pycharm": {
     "name": "#%%\n"
    }
   },
   "outputs": [
    {
     "name": "stdout",
     "output_type": "stream",
     "text": [
      "Got guess\n"
     ]
    },
    {
     "data": {
      "text/plain": [
       "<matplotlib.image.AxesImage at 0x7f1b6a07aca0>"
      ]
     },
     "execution_count": 30,
     "metadata": {},
     "output_type": "execute_result"
    },
    {
     "data": {
      "image/png": "[encoded data removed]",
      "text/plain": [
       "<Figure size 432x288 with 1 Axes>"
      ]
     },
     "metadata": {},
     "output_type": "display_data"
    }
   ],
   "source": [
    "guess = threshold_distances(dist, threshold=cutoff)\n",
    "save_2d_array_as_raster(guess_out, guess, affine, DEFAULT_CRS)\n",
    "print('Got guess')\n",
    "plt.imshow(guess, cmap='viridis')"
   ]
  },
  {
   "cell_type": "markdown",
   "metadata": {
    "pycharm": {
     "name": "#%% md\n"
    }
   },
   "source": [
    "## Check results"
   ]
  },
  {
   "cell_type": "code",
   "execution_count": 31,
   "metadata": {
    "pycharm": {
     "name": "#%%\n"
    }
   },
   "outputs": [],
   "source": [
    "# TODO: the ground truth is not adjusted to the smaller aoi, execution of this cell leads to a shape mismatch\n",
    "\n",
    "# true_pos, false_neg = gf.accuracy(grid_truth, guess_out, aoi_in)\n",
    "# print(f'Points identified as grid that are grid: {100*true_pos:.0f}%')\n",
    "# print(f'Actual grid that was missed: {100*false_neg:.0f}%')"
   ]
  },
  {
   "cell_type": "markdown",
   "metadata": {
    "pycharm": {
     "name": "#%% md\n"
    }
   },
   "source": [
    "## Skeletonize"
   ]
  },
  {
   "cell_type": "code",
   "execution_count": 34,
   "metadata": {
    "collapsed": false,
    "jupyter": {
     "outputs_hidden": false
    },
    "pycharm": {
     "name": "#%%\n"
    }
   },
   "outputs": [
    {
     "name": "stdout",
     "output_type": "stream",
     "text": [
      "Skeletonized\n"
     ]
    },
    {
     "data": {
      "text/plain": [
       "<matplotlib.image.AxesImage at 0x7f1b69fbcbe0>"
      ]
     },
     "execution_count": 34,
     "metadata": {},
     "output_type": "execute_result"
    },
    {
     "data": {
      "image/png": "[encoded data removed]",
      "text/plain": [
       "<Figure size 432x288 with 1 Axes>"
      ]
     },
     "metadata": {},
     "output_type": "display_data"
    }
   ],
   "source": [
    "guess_skel = thin(guess)\n",
    "save_2d_array_as_raster(guess_skeletonized_out, guess_skel, affine, DEFAULT_CRS)\n",
    "print('Skeletonized')\n",
    "plt.imshow(guess_skel)"
   ]
  },
  {
   "cell_type": "code",
   "execution_count": 35,
   "metadata": {},
   "outputs": [],
   "source": [
    "## Convert to geometry"
   ]
  },
  {
   "cell_type": "markdown",
   "metadata": {},
   "source": [
    "## Convert to geometry"
   ]
  },
  {
   "cell_type": "code",
   "execution_count": 38,
   "metadata": {},
   "outputs": [
    {
     "name": "stdout",
     "output_type": "stream",
     "text": [
      "Converted to geom\n"
     ]
    }
   ],
   "source": [
    "guess_gdf = raster_to_lines(guess_skel, affine, DEFAULT_CRS)\n",
    "guess_gdf.to_file(guess_vec_out, driver='GPKG')\n",
    "print('Converted to geom')"
   ]
  },
  {
   "cell_type": "code",
   "execution_count": 39,
   "metadata": {},
   "outputs": [
    {
     "data": {
      "text/html": [
       "<div style=\"width:100%;\"><div style=\"position:relative;width:100%;height:0;padding-bottom:60%;\"><span style=\"color:#565656\">Make this Notebook Trusted to load map: File -> Trust Notebook</span><iframe src=\"about:blank\" style=\"position:absolute;width:100%;height:100%;left:0;top:0;border:none !important;\" data-html=PCFET0NUWVBFIGh0bWw+CjxoZWFkPiAgICAKICAgIDxtZXRhIGh0dHAtZXF1aXY9ImNvbnRlbnQtdHlwZSIgY29udGVudD0idGV4dC9odG1sOyBjaGFyc2V0PVVURi04IiAvPgogICAgCiAgICAgICAgPHNjcmlwdD4KICAgICAgICAgICAgTF9OT19UT1VDSCA9IGZhbHNlOwogICAgICAgICAgICBMX0RJU0FCTEVfM0QgPSBmYWxzZTsKICAgICAgICA8L3NjcmlwdD4KICAgIAogICAgPHNjcmlwdCBzcmM9Imh0dHBzOi8vY2RuLmpzZGVsaXZyLm5ldC9ucG0vbGVhZmxldEAxLjYuMC9kaXN0L2xlYWZsZXQuanMiPjwvc2NyaXB0PgogICAgPHNjcmlwdCBzcmM9Imh0dHBzOi8vY29kZS5qcXVlcnkuY29tL2pxdWVyeS0xLjEyLjQubWluLmpzIj48L3NjcmlwdD4KICAgIDxzY3JpcHQgc3JjPSJodHRwczovL21heGNkbi5ib290c3RyYXBjZG4uY29tL2Jvb3RzdHJhcC8zLjIuMC9qcy9ib290c3RyYXAubWluLmpzIj48L3NjcmlwdD4KICAgIDxzY3JpcHQgc3JjPSJodHRwczovL2NkbmpzLmNsb3VkZmxhcmUuY29tL2FqYXgvbGlicy9MZWFmbGV0LmF3ZXNvbWUtbWFya2Vycy8yLjAuMi9sZWFmbGV0LmF3ZXNvbWUtbWFya2Vycy5qcyI+PC9zY3JpcHQ+CiAgICA8bGluayByZWw9InN0eWxlc2hlZXQiIGhyZWY9Imh0dHBzOi8vY2RuLmpzZGVsaXZyLm5ldC9ucG0vbGVhZmxldEAxLjYuMC9kaXN0L2xlYWZsZXQuY3NzIi8+CiAgICA8bGluayByZWw9InN0eWxlc2hlZXQiIGhyZWY9Imh0dHBzOi8vbWF4Y2RuLmJvb3RzdHJhcGNkbi5jb20vYm9vdHN0cmFwLzMuMi4wL2Nzcy9ib290c3RyYXAubWluLmNzcyIvPgogICAgPGxpbmsgcmVsPSJzdHlsZXNoZWV0IiBocmVmPSJodHRwczovL21heGNkbi5ib290c3RyYXBjZG4uY29tL2Jvb3RzdHJhcC8zLjIuMC9jc3MvYm9vdHN0cmFwLXRoZW1lLm1pbi5jc3MiLz4KICAgIDxsaW5rIHJlbD0ic3R5bGVzaGVldCIgaHJlZj0iaHR0cHM6Ly9tYXhjZG4uYm9vdHN0cmFwY2RuLmNvbS9mb250LWF3ZXNvbWUvNC42LjMvY3NzL2ZvbnQtYXdlc29tZS5taW4uY3NzIi8+CiAgICA8bGluayByZWw9InN0eWxlc2hlZXQiIGhyZWY9Imh0dHBzOi8vY2RuanMuY2xvdWRmbGFyZS5jb20vYWpheC9saWJzL0xlYWZsZXQuYXdlc29tZS1tYXJrZXJzLzIuMC4yL2xlYWZsZXQuYXdlc29tZS1tYXJrZXJzLmNzcyIvPgogICAgPGxpbmsgcmVsPSJzdHlsZXNoZWV0IiBocmVmPSJodHRwczovL3Jhd2Nkbi5naXRoYWNrLmNvbS9weXRob24tdmlzdWFsaXphdGlvbi9mb2xpdW0vbWFzdGVyL2ZvbGl1bS90ZW1wbGF0ZXMvbGVhZmxldC5hd2Vzb21lLnJvdGF0ZS5jc3MiLz4KICAgIDxzdHlsZT5odG1sLCBib2R5IHt3aWR0aDogMTAwJTtoZWlnaHQ6IDEwMCU7bWFyZ2luOiAwO3BhZGRpbmc6IDA7fTwvc3R5bGU+CiAgICA8c3R5bGU+I21hcCB7cG9zaXRpb246YWJzb2x1dGU7dG9wOjA7Ym90dG9tOjA7cmlnaHQ6MDtsZWZ0OjA7fTwvc3R5bGU+CiAgICAKICAgICAgICAgICAgPG1ldGEgbmFtZT0idmlld3BvcnQiIGNvbnRlbnQ9IndpZHRoPWRldmljZS13aWR0aCwKICAgICAgICAgICAgICAgIGluaXRpYWwtc2NhbGU9MS4wLCBtYXhpbXVtLXNjYWxlPTEuMCwgdXNlci1zY2FsYWJsZT1ubyIgLz4KICAgICAgICAgICAgPHN0eWxlPgogICAgICAgICAgICAgICAgI21hcF8yZTE0NjhjYTA5MmU0YWFhODk5OGFmODhhMDBmOWViNCB7CiAgICAgICAgICAgICAgICAgICAgcG9zaXRpb246IHJlbGF0aXZlOwogICAgICAgICAgICAgICAgICAgIHdpZHRoOiAxMDAuMCU7CiAgICAgICAgICAgICAgICAgICAgaGVpZ2h0OiAxMDAuMCU7CiAgICAgICAgICAgICAgICAgICAgbGVmdDogMC4wJTsKICAgICAgICAgICAgICAgICAgICB0b3A6IDAuMCU7CiAgICAgICAgICAgICAgICB9CiAgICAgICAgICAgIDwvc3R5bGU+CiAgICAgICAgCjwvaGVhZD4KPGJvZHk+ICAgIAogICAgCiAgICAgICAgICAgIDxkaXYgY2xhc3M9ImZvbGl1bS1tYXAiIGlkPSJtYXBfMmUxNDY4Y2EwOTJlNGFhYTg5OThhZjg4YTAwZjllYjQiID48L2Rpdj4KICAgICAgICAKPC9ib2R5Pgo8c2NyaXB0PiAgICAKICAgIAogICAgICAgICAgICB2YXIgbWFwXzJlMTQ2OGNhMDkyZTRhYWE4OTk4YWY4OGEwMGY5ZWI0ID0gTC5tYXAoCiAgICAgICAgICAgICAgICAibWFwXzJlMTQ2OGNhMDkyZTRhYWE4OTk4YWY4OGEwMGY5ZWI0IiwKICAgICAgICAgICAgICAgIHsKICAgICAgICAgICAgICAgICAgICBjZW50ZXI6IFswLCAwXSwKICAgICAgICAgICAgICAgICAgICBjcnM6IEwuQ1JTLkVQU0czODU3LAogICAgICAgICAgICAgICAgICAgIHpvb206IDEsCiAgICAgICAgICAgICAgICAgICAgem9vbUNvbnRyb2w6IHRydWUsCiAgICAgICAgICAgICAgICAgICAgcHJlZmVyQ2FudmFzOiBmYWxzZSwKICAgICAgICAgICAgICAgIH0KICAgICAgICAgICAgKTsKICAgICAgICAgICAgTC5jb250cm9sLnNjYWxlKCkuYWRkVG8obWFwXzJlMTQ2OGNhMDkyZTRhYWE4OTk4YWY4OGEwMGY5ZWI0KTsKCiAgICAgICAgICAgIAoKICAgICAgICAKICAgIAogICAgICAgICAgICB2YXIgdGlsZV9sYXllcl9mZTQ1Y2Q5ZjBjMTk0MGQ5YmY1YjFjMjJlOGRhZDVjNiA9IEwudGlsZUxheWVyKAogICAgICAgICAgICAgICAgImh0dHBzOi8ve3N9LnRpbGUub3BlbnN0cmVldG1hcC5vcmcve3p9L3t4fS97eX0ucG5nIiwKICAgICAgICAgICAgICAgIHsiYXR0cmlidXRpb24iOiAiRGF0YSBieSBcdTAwMjZjb3B5OyBcdTAwM2NhIGhyZWY9XCJodHRwOi8vb3BlbnN0cmVldG1hcC5vcmdcIlx1MDAzZU9wZW5TdHJlZXRNYXBcdTAwM2MvYVx1MDAzZSwgdW5kZXIgXHUwMDNjYSBocmVmPVwiaHR0cDovL3d3dy5vcGVuc3RyZWV0bWFwLm9yZy9jb3B5cmlnaHRcIlx1MDAzZU9EYkxcdTAwM2MvYVx1MDAzZS4iLCAiZGV0ZWN0UmV0aW5hIjogZmFsc2UsICJtYXhOYXRpdmVab29tIjogMTgsICJtYXhab29tIjogMTgsICJtaW5ab29tIjogMCwgIm5vV3JhcCI6IGZhbHNlLCAib3BhY2l0eSI6IDEsICJzdWJkb21haW5zIjogImFiYyIsICJ0bXMiOiBmYWxzZX0KICAgICAgICAgICAgKS5hZGRUbyhtYXBfMmUxNDY4Y2EwOTJlNGFhYTg5OThhZjg4YTAwZjllYjQpOwogICAgICAgIAogICAgCiAgICAgICAgICAgIG1hcF8yZTE0NjhjYTA5MmU0YWFhODk5OGFmODhhMDBmOWViNC5maXRCb3VuZHMoCiAgICAgICAgICAgICAgICBbWy0zLjAyODEyMzI0OTAxMTk1NCwgMjkuODQwNjI1ODY5Njc0NjVdLCBbLTMuMDI4MTIzMjQ5MDExOTU0LCAyOS44NDI3MDkyMDI5MTk2N11dLAogICAgICAgICAgICAgICAge30KICAgICAgICAgICAgKTsKICAgICAgICAKICAgIAogICAgICAgIGZ1bmN0aW9uIGdlb19qc29uXzU2Yzk1YWRkMjlmZjQ0MjM5ODlkYzM0YTZiMGFlOWRkX29uRWFjaEZlYXR1cmUoZmVhdHVyZSwgbGF5ZXIpIHsKICAgICAgICAgICAgbGF5ZXIub24oewogICAgICAgICAgICAgICAgY2xpY2s6IGZ1bmN0aW9uKGUpIHsKICAgICAgICAgICAgICAgICAgICBtYXBfMmUxNDY4Y2EwOTJlNGFhYTg5OThhZjg4YTAwZjllYjQuZml0Qm91bmRzKGUudGFyZ2V0LmdldEJvdW5kcygpKTsKICAgICAgICAgICAgICAgIH0KICAgICAgICAgICAgfSk7CiAgICAgICAgfTsKICAgICAgICB2YXIgZ2VvX2pzb25fNTZjOTVhZGQyOWZmNDQyMzk4OWRjMzRhNmIwYWU5ZGQgPSBMLmdlb0pzb24obnVsbCwgewogICAgICAgICAgICAgICAgb25FYWNoRmVhdHVyZTogZ2VvX2pzb25fNTZjOTVhZGQyOWZmNDQyMzk4OWRjMzRhNmIwYWU5ZGRfb25FYWNoRmVhdHVyZSwKICAgICAgICAgICAgCiAgICAgICAgfSkuYWRkVG8obWFwXzJlMTQ2OGNhMDkyZTRhYWE4OTk4YWY4OGEwMGY5ZWI0KTsKCiAgICAgICAgZnVuY3Rpb24gZ2VvX2pzb25fNTZjOTVhZGQyOWZmNDQyMzk4OWRjMzRhNmIwYWU5ZGRfYWRkIChkYXRhKSB7CiAgICAgICAgICAgIGdlb19qc29uXzU2Yzk1YWRkMjlmZjQ0MjM5ODlkYzM0YTZiMGFlOWRkLmFkZERhdGEoZGF0YSk7CiAgICAgICAgfQogICAgICAgICAgICBnZW9fanNvbl81NmM5NWFkZDI5ZmY0NDIzOTg5ZGMzNGE2YjBhZTlkZF9hZGQoeyJiYm94IjogWzI5Ljg0MDYyNTg2OTY3NDY1LCAtMy4wMjgxMjMyNDkwMTE5NTQsIDI5Ljg0MjcwOTIwMjkxOTY3LCAtMy4wMjgxMjMyNDkwMTE5NTRdLCAiZmVhdHVyZXMiOiBbeyJiYm94IjogWzI5Ljg0MDYyNTg2OTY3NDY1LCAtMy4wMjgxMjMyNDkwMTE5NTQsIDI5Ljg0MjcwOTIwMjkxOTY3LCAtMy4wMjgxMjMyNDkwMTE5NTRdLCAiZ2VvbWV0cnkiOiB7ImNvb3JkaW5hdGVzIjogW1syOS44NDA2MjU4Njk2NzQ2NSwgLTMuMDI4MTIzMjQ5MDExOTU0XSwgWzI5Ljg0MjcwOTIwMjkxOTY3LCAtMy4wMjgxMjMyNDkwMTE5NTRdXSwgInR5cGUiOiAiTGluZVN0cmluZyJ9LCAiaWQiOiAiMCIsICJwcm9wZXJ0aWVzIjoge30sICJ0eXBlIjogIkZlYXR1cmUifV0sICJ0eXBlIjogIkZlYXR1cmVDb2xsZWN0aW9uIn0pOwogICAgICAgIAo8L3NjcmlwdD4= onload=\"this.contentDocument.open();this.contentDocument.write(atob(this.getAttribute('data-html')));this.contentDocument.close();\" allowfullscreen webkitallowfullscreen mozallowfullscreen></iframe></div></div>"
      ],
      "text/plain": [
       "<folium.folium.Map at 0x7f1b6a4be220>"
      ]
     },
     "execution_count": 39,
     "metadata": {},
     "output_type": "execute_result"
    }
   ],
   "source": [
    "minx, miny, maxx, maxy = list(guess_gdf.bounds.iloc[0])\n",
    "bounds = ((miny, minx), (maxy, maxx))\n",
    "\n",
    "m = folium.Map(control_scale=True)\n",
    "m.fit_bounds(bounds)\n",
    "folium.GeoJson(guess_gdf).add_to(m)\n",
    "m"
   ]
  },
  {
   "cell_type": "code",
   "execution_count": null,
   "metadata": {},
   "outputs": [],
   "source": []
  }
 ],
 "metadata": {
  "kernelspec": {
   "display_name": "Python 3",
   "language": "python",
   "name": "python3"
  },
  "language_info": {
   "codemirror_mode": {
    "name": "ipython",
    "version": 3
   },
   "file_extension": ".py",
   "mimetype": "text/x-python",
   "name": "python",
   "nbconvert_exporter": "python",
   "pygments_lexer": "ipython3",
   "version": "3.6.9"
  }
 },
 "nbformat": 4,
 "nbformat_minor": 4
}
