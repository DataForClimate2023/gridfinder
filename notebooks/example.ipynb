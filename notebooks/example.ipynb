{
 "cells": [
  {
   "cell_type": "markdown",
   "metadata": {},
   "source": [
    "# gridfinder\n",
    "Run through the full gridfinder model from data input to final guess for Burundi.\n",
    "Note that the 'truth' data used for the grid here is very bad, so the accuracy results don't mean much.\n",
    "\n",
    "## Before running the notebook\n",
    "\n",
    "Install the library and its dependencies with, if you haven't done so already\n",
    "```\n",
    "pip install -e .\n",
    "```\n",
    "from the root directory. You can also execute this command directly in the notebook but will need to reload the\n",
    "kernel afterwards"
   ]
  },
  {
   "cell_type": "code",
   "execution_count": null,
   "metadata": {
    "collapsed": false,
    "jupyter": {
     "outputs_hidden": false
    },
    "pycharm": {
     "name": "#%%\n"
    }
   },
   "outputs": [],
   "source": [
    "# Note - this cell should be executed only once per session\n",
    "%load_ext autoreload\n",
    "%autoreload 2\n",
    "\n",
    "import sys, os\n",
    "\n",
    "# in order to get the config, it is not part of the library\n",
    "os.chdir(\"..\")\n",
    "sys.path.append(os.path.abspath(\".\"))"
   ]
  },
  {
   "cell_type": "code",
   "execution_count": null,
   "metadata": {},
   "outputs": [],
   "source": [
    "\n",
    "import matplotlib.pyplot as plt\n",
    "import geopandas as gpd\n",
    "from matplotlib import cm\n",
    "import seaborn as sns\n",
    "\n",
    "import numpy as np\n",
    "\n",
    "import folium\n",
    "\n",
    "from gridfinder.gridfinder import optimise, estimate_mem_use, get_targets_costs\n",
    "from gridfinder.post import raster_to_lines, thin, threshold_distances\n",
    "from gridfinder.util.raster import save_2d_array_as_raster, get_clipped_data\n",
    "from gridfinder.util.loading import open_raster_in_tar\n",
    "from gridfinder.prepare import merge_rasters, drop_zero_pop, prepare_ntl, prepare_roads\n",
    "from gridfinder.electrificationfilter import NightlightFilter\n",
    "from config import get_config"
   ]
  },
  {
   "cell_type": "markdown",
   "metadata": {},
   "source": [
    "## Set folders and parameters"
   ]
  },
  {
   "cell_type": "code",
   "execution_count": null,
   "metadata": {},
   "outputs": [],
   "source": [
    "c = get_config(reload=True)\n",
    "\n",
    "folder_ntl_in = c.datafile_path(\"ntl\", stage=c.RAW)\n",
    "aoi_in = c.datafile_path(\"small_aoi.geojson\", stage=c.GROUND_TRUTH)\n",
    "roads_in = c.datafile_path(\"smaller_roads.geojson\", stage=c.GROUND_TRUTH)\n",
    "pop_in = c.datafile_path('pop.tif', stage=c.GROUND_TRUTH)\n",
    "grid_truth = c.datafile_path('grid.gpkg', stage=c.GROUND_TRUTH)\n",
    "\n",
    "folder_ntl_out = c.datafile_path('ntl_clipped', stage=c.PROCESSED, check_existence=False)\n",
    "raster_merged_out = c.datafile_path('ntl_merged.tif', stage=c.PROCESSED, check_existence=False)\n",
    "targets_out =  c.datafile_path('targets.tif', stage=c.PROCESSED, check_existence=False)\n",
    "targets_clean_out = c.datafile_path('targets_clean.tif', stage=c.CLEANED, check_existence=False)\n",
    "roads_out = c.datafile_path('roads.tif', stage=c.PROCESSED, check_existence=False)\n",
    "\n",
    "dist_out = c.datafile_path('dist.tif', stage=c.PROCESSED, check_existence=False)\n",
    "guess_out = c.datafile_path('guess.tif', stage=c.PROCESSED, check_existence=False)\n",
    "guess_skeletonized_out = c.datafile_path('guess_skel.tif', stage=c.PROCESSED, check_existence=False)\n",
    "guess_nulled = c.datafile_path('guess_nulled.tif', stage=c.PROCESSED, check_existence=False)\n",
    "guess_vec_out = c.datafile_path('guess.gpkg', stage=c.PROCESSED, check_existence=False)\n",
    "animate_out = os.path.join(c.visualizations, 'guess.tif')"
   ]
  },
  {
   "cell_type": "code",
   "execution_count": null,
   "metadata": {},
   "outputs": [],
   "source": [
    "percentile = 70      # percentile value to use when merging monthly NTL rasters\n",
    "ntl_threshold = 0.1  # threshold when converting filtered NTL to binary (probably shouldn't change)\n",
    "upsample_by = 2      # factor by which to upsample before processing roads (both dimensions are scaled by this)\n",
    "cutoff = 0.0         # cutoff to apply to output dist raster, values below this are considered grid"
   ]
  },
  {
   "cell_type": "markdown",
   "metadata": {},
   "source": [
    "## Clip  and merge monthly rasters"
   ]
  },
  {
   "cell_type": "code",
   "execution_count": null,
   "metadata": {
    "collapsed": false,
    "jupyter": {
     "outputs_hidden": false
    },
    "pycharm": {
     "name": "#%%\n"
    }
   },
   "outputs": [],
   "source": [
    "# this is necessary until the rest of the notebook has been refactored to use the new saving method\n",
    "DEFAULT_CRS = \"EPSG:4326\"\n"
   ]
  },
  {
   "cell_type": "code",
   "execution_count": null,
   "metadata": {},
   "outputs": [],
   "source": [
    "ntl_files_basedir = c.datafile_path(\"ntl\")\n",
    "aoi_boundary_geodf = gpd.read_file(aoi_in)\n",
    "\n",
    "for ntl_file in os.listdir(ntl_files_basedir):\n",
    "    full_path = os.path.join(ntl_files_basedir, ntl_file)\n",
    "    output_path = os.path.join(folder_ntl_out, f\"{ntl_file[:-4]}.tif\") #stripping off the .tgz\n",
    "    with open_raster_in_tar(full_path, file_index=1) as raster:\n",
    "        clipped_data, transform = get_clipped_data(raster, aoi_boundary_geodf)\n",
    "        save_2d_array_as_raster(output_path, clipped_data, transform, crs=raster.crs.to_string())"
   ]
  },
  {
   "cell_type": "code",
   "execution_count": null,
   "metadata": {
    "pycharm": {
     "name": "#%%\n"
    },
    "scrolled": true
   },
   "outputs": [],
   "source": [
    "raster_merged, affine, _ = merge_rasters(folder_ntl_out, percentile=percentile)\n",
    "save_2d_array_as_raster(raster_merged_out, raster_merged, affine, DEFAULT_CRS)\n",
    "print('Merged')\n",
    "plt.imshow(raster_merged, vmin=0, vmax=1)"
   ]
  },
  {
   "cell_type": "markdown",
   "metadata": {
    "pycharm": {
     "name": "#%% md\n"
    }
   },
   "source": [
    "## Create filter"
   ]
  },
  {
   "cell_type": "code",
   "execution_count": null,
   "metadata": {
    "pycharm": {
     "name": "#%%\n"
    }
   },
   "outputs": [],
   "source": [
    "ntl_filter = NightlightFilter()\n",
    "\n",
    "X = np.fromfunction(lambda i, j: i, ntl_filter.predictor.shape)\n",
    "Y = np.fromfunction(lambda i, j: j, ntl_filter.predictor.shape)\n",
    "\n",
    "fig = plt.figure()\n",
    "sns.set()\n",
    "ax = fig.gca(projection='3d')\n",
    "ax.plot_surface(X, Y, ntl_filter.predictor, cmap=cm.coolwarm, linewidth=0, antialiased=False)"
   ]
  },
  {
   "cell_type": "markdown",
   "metadata": {
    "pycharm": {
     "name": "#%% md\n"
    }
   },
   "source": [
    "## Clip, filter and resample NTL"
   ]
  },
  {
   "cell_type": "code",
   "execution_count": null,
   "metadata": {
    "pycharm": {
     "name": "#%%\n"
    }
   },
   "outputs": [],
   "source": [
    "ntl_thresh, affine = prepare_ntl(raster_merged,\n",
    "                                    affine,\n",
    "                                    electrification_predictor=ntl_filter,\n",
    "                                    threshold=ntl_threshold,\n",
    "                                        upsample_by=upsample_by)\n",
    "save_2d_array_as_raster(targets_out, ntl_thresh, affine, DEFAULT_CRS)\n",
    "print('Targets prepared')\n",
    "plt.imshow(ntl_thresh, cmap='viridis')"
   ]
  },
  {
   "cell_type": "markdown",
   "metadata": {
    "pycharm": {
     "name": "#%% md\n"
    }
   },
   "source": [
    "## Remove target areas with no underlying population"
   ]
  },
  {
   "cell_type": "code",
   "execution_count": null,
   "metadata": {
    "pycharm": {
     "name": "#%%\n"
    }
   },
   "outputs": [],
   "source": [
    "aoi = gpd.read_file(aoi_in)\n",
    "targets_clean = drop_zero_pop(targets_out, pop_in, aoi)\n",
    "save_2d_array_as_raster(targets_clean_out, targets_clean, affine, DEFAULT_CRS)\n",
    "print('Removed zero pop')\n",
    "plt.imshow(ntl_thresh, cmap='viridis')"
   ]
  },
  {
   "cell_type": "markdown",
   "metadata": {
    "pycharm": {
     "name": "#%% md\n"
    }
   },
   "source": [
    "## Roads: assign values, clip and rasterize"
   ]
  },
  {
   "cell_type": "code",
   "execution_count": null,
   "metadata": {
    "pycharm": {
     "name": "#%%\n"
    }
   },
   "outputs": [],
   "source": [
    "roads_raster, affine = prepare_roads(roads_in,\n",
    "                                        aoi,\n",
    "                                        targets_out)\n",
    "save_2d_array_as_raster(roads_out, roads_raster, affine, DEFAULT_CRS, nodata=-1)\n",
    "print('Costs prepared')\n",
    "plt.imshow(roads_raster, cmap='viridis', vmin=0, vmax=1)"
   ]
  },
  {
   "cell_type": "markdown",
   "metadata": {
    "pycharm": {
     "name": "#%% md\n"
    }
   },
   "source": [
    "## Get targets and costs and run algorithm"
   ]
  },
  {
   "cell_type": "code",
   "execution_count": null,
   "metadata": {},
   "outputs": [],
   "source": [
    "targets, costs, start, affine = get_targets_costs(targets_clean_out, roads_out)\n",
    "est_mem = estimate_mem_use(targets, costs)\n",
    "print(f'Estimated memory usage: {est_mem:.2f} GB')"
   ]
  },
  {
   "cell_type": "code",
   "execution_count": null,
   "metadata": {
    "pycharm": {
     "name": "#%%\n"
    }
   },
   "outputs": [],
   "source": [
    "dist = optimise(targets, costs, start,\n",
    "                   jupyter=True,\n",
    "                   animate=True,\n",
    "                   affine=affine,\n",
    "                   animate_path=animate_out)\n",
    "save_2d_array_as_raster(dist_out, dist, affine, DEFAULT_CRS)\n",
    "plt.imshow(dist)"
   ]
  },
  {
   "cell_type": "markdown",
   "metadata": {
    "pycharm": {
     "name": "#%% md\n"
    }
   },
   "source": [
    "## Filter dist results to grid guess"
   ]
  },
  {
   "cell_type": "code",
   "execution_count": null,
   "metadata": {
    "pycharm": {
     "name": "#%%\n"
    }
   },
   "outputs": [],
   "source": [
    "guess = threshold_distances(dist, threshold=cutoff)\n",
    "save_2d_array_as_raster(guess_out, guess, affine, DEFAULT_CRS)\n",
    "print('Got guess')\n",
    "plt.imshow(guess, cmap='viridis')"
   ]
  },
  {
   "cell_type": "markdown",
   "metadata": {
    "pycharm": {
     "name": "#%% md\n"
    }
   },
   "source": [
    "## Check results"
   ]
  },
  {
   "cell_type": "code",
   "execution_count": null,
   "metadata": {
    "pycharm": {
     "name": "#%%\n"
    }
   },
   "outputs": [],
   "source": [
    "# TODO: the ground truth is not adjusted to the smaller aoi, execution of this cell leads to a shape mismatch\n",
    "\n",
    "# true_pos, false_neg = gf.accuracy(grid_truth, guess_out, aoi_in)\n",
    "# print(f'Points identified as grid that are grid: {100*true_pos:.0f}%')\n",
    "# print(f'Actual grid that was missed: {100*false_neg:.0f}%')"
   ]
  },
  {
   "cell_type": "markdown",
   "metadata": {
    "pycharm": {
     "name": "#%% md\n"
    }
   },
   "source": [
    "## Skeletonize"
   ]
  },
  {
   "cell_type": "code",
   "execution_count": null,
   "metadata": {
    "collapsed": false,
    "jupyter": {
     "outputs_hidden": false
    },
    "pycharm": {
     "name": "#%%\n"
    }
   },
   "outputs": [],
   "source": [
    "guess_skel = thin(guess)\n",
    "save_2d_array_as_raster(guess_skeletonized_out, guess_skel, affine, DEFAULT_CRS)\n",
    "print('Skeletonized')\n",
    "plt.imshow(guess_skel)"
   ]
  },
  {
   "cell_type": "code",
   "execution_count": null,
   "metadata": {},
   "outputs": [],
   "source": [
    "## Convert to geometry"
   ]
  },
  {
   "cell_type": "markdown",
   "metadata": {},
   "source": [
    "## Convert to geometry"
   ]
  },
  {
   "cell_type": "code",
   "execution_count": null,
   "metadata": {},
   "outputs": [],
   "source": [
    "guess_gdf = raster_to_lines(guess_skel, affine, DEFAULT_CRS)\n",
    "guess_gdf.to_file(guess_vec_out, driver='GPKG')\n",
    "print('Converted to geom')"
   ]
  },
  {
   "cell_type": "code",
   "execution_count": null,
   "metadata": {},
   "outputs": [],
   "source": [
    "minx, miny, maxx, maxy = list(guess_gdf.bounds.iloc[0])\n",
    "bounds = ((miny, minx), (maxy, maxx))\n",
    "\n",
    "m = folium.Map(control_scale=True)\n",
    "m.fit_bounds(bounds)\n",
    "folium.GeoJson(guess_gdf).add_to(m)\n",
    "m"
   ]
  },
  {
   "cell_type": "code",
   "execution_count": null,
   "metadata": {},
   "outputs": [],
   "source": []
  }
 ],
 "metadata": {
  "kernelspec": {
   "display_name": "slow-env",
   "language": "python",
   "name": "slow-env"
  },
  "language_info": {
   "codemirror_mode": {
    "name": "ipython",
    "version": 3
   },
   "file_extension": ".py",
   "mimetype": "text/x-python",
   "name": "python",
   "nbconvert_exporter": "python",
   "pygments_lexer": "ipython3",
   "version": "3.8.6"
  }
 },
 "nbformat": 4,
 "nbformat_minor": 4
}
